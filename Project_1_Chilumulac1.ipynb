{
  "nbformat": 4,
  "nbformat_minor": 0,
  "metadata": {
    "colab": {
      "provenance": []
    },
    "kernelspec": {
      "name": "python3",
      "display_name": "Python 3"
    },
    "language_info": {
      "name": "python"
    }
  },
  "cells": [
    {
      "cell_type": "code",
      "execution_count": 1,
      "metadata": {
        "colab": {
          "base_uri": "https://localhost:8080/"
        },
        "id": "pIwYobTEv-Gc",
        "outputId": "8afc7ed8-d41a-4aab-8ec2-ef9533b1772a"
      },
      "outputs": [
        {
          "output_type": "stream",
          "name": "stderr",
          "text": [
            "[nltk_data] Downloading package punkt to /root/nltk_data...\n",
            "[nltk_data]   Unzipping tokenizers/punkt.zip.\n"
          ]
        },
        {
          "output_type": "stream",
          "name": "stdout",
          "text": [
            "USA\n",
            "Canada\n"
          ]
        },
        {
          "output_type": "stream",
          "name": "stderr",
          "text": [
            "[nltk_data] Downloading package stopwords to /root/nltk_data...\n",
            "[nltk_data]   Unzipping corpora/stopwords.zip.\n"
          ]
        }
      ],
      "source": [
        "'''\n",
        "Experiment 1:\n",
        "The below code gives the top two countries which hold the highest number of noble prizes.\n",
        "For this I'm using the coloumn Country to extarct the information. \n",
        "'''\n",
        "\n",
        "import pandas as pd\n",
        "import nltk\n",
        "from nltk.corpus import stopwords\n",
        "from nltk.tokenize import word_tokenize\n",
        "\n",
        "nltk.download('punkt')\n",
        "nltk.download('stopwords')\n",
        "\n",
        "# Load the dataset\n",
        "data_frame = pd.read_csv('/content/sample_data/nobel_prize_by_winner.csv', encoding='latin-1')\n",
        "\n",
        "data_frame = data_frame.dropna()  #dropiing all the non a number, undefined, unrepresentable, missing values\n",
        "\n",
        "# Combine all the text columns into a single string\n",
        "text = ' '.join(data_frame['country'].tolist()) \n",
        "\n",
        "# Tokenize the text\n",
        "tokens = word_tokenize(text)\n",
        "\n",
        "# Remove stop words\n",
        "stop_words = set(stopwords.words('english'))\n",
        "tokens = [token for token in tokens if token.lower() not in stop_words]\n",
        "\n",
        "# Calculate word frequencies\n",
        "freq_dist = nltk.FreqDist(tokens)\n",
        "\n",
        "# Print the top 2 most common words\n",
        "for word, frequency in freq_dist.most_common(2):\n",
        "    print(word)\n"
      ]
    },
    {
      "cell_type": "code",
      "source": [
        "'''\n",
        "Experiment 1:\n",
        "The below code plots a histogram of their age when receiving the prize.\n",
        "From the below plot we can cleary say that most of teh arwards where recieved between the age 60 to 80\n",
        "'''\n",
        "\n",
        "import numpy as np\n",
        "import matplotlib.pyplot as plt\n",
        "\n",
        "\n",
        "# Convert birthdate and prize year columns to datetime format\n",
        "data_frame['birth_date'] = pd.to_datetime(data_frame['born'])\n",
        "data_frame['prize_year'] = pd.to_datetime(data_frame['year'], format='%Y')\n",
        "\n",
        "# Calculate age at the time of receiving the prize\n",
        "data_frame['age'] = data_frame['prize_year'].dt.year - data_frame['birth_date'].dt.year\n",
        "\n",
        "# Create a histogram of ages\n",
        "plt.hist(data_frame['age'], bins=np.arange(0, 100, 4))\n",
        "plt.xlabel('Age')\n",
        "plt.ylabel('Frequency')\n",
        "plt.title('Age at Time of Receiving Nobel Prize')\n",
        "plt.show()\n"
      ],
      "metadata": {
        "colab": {
          "base_uri": "https://localhost:8080/",
          "height": 295
        },
        "id": "9HUovxOjwLoN",
        "outputId": "e1a113b1-e3d3-489d-8d02-1d9ecd312028"
      },
      "execution_count": 2,
      "outputs": [
        {
          "output_type": "display_data",
          "data": {
            "text/plain": [
              "<Figure size 432x288 with 1 Axes>"
            ],
            "image/png": "[encoded data removed]"
          },
          "metadata": {
            "needs_background": "light"
          }
        }
      ]
    },
    {
      "cell_type": "code",
      "source": [
        "'''\n",
        "Experiment 1:\n",
        "The below code gives the most common words words used in the title. For this, We have a coloumn \"name\" in the kaggle dataset. \n",
        "I used that column to extarct the common words used in the title. \n",
        "'''\n",
        "\n",
        "filter_words = ['the', 'of', 'and', 'in', 'to', 'for', 'on', 'with', 'at', 'an', '(', ')']\n",
        "\n",
        "# Combine all the text columns into a single string\n",
        "text = ' '.join(data_frame['name'].tolist())\n",
        "\n",
        "# Tokenize the text\n",
        "tokens = word_tokenize(text)\n",
        "\n",
        "# Remove stop words\n",
        "stop_words = set(stopwords.words('english'))\n",
        "tokens = [token for token in tokens if token.lower() not in stop_words and token.lower() not in filter_words]\n",
        "\n",
        "# Calculate word frequencies\n",
        "freq_dist = nltk.FreqDist(tokens)\n",
        "\n",
        "# Print the top 20 most common words\n",
        "for word, frequency in freq_dist.most_common(20):\n",
        "    print(word, frequency)\n"
      ],
      "metadata": {
        "colab": {
          "base_uri": "https://localhost:8080/"
        },
        "id": "U61dtWUkwOKZ",
        "outputId": "b3d24b45-db2e-4508-f1c2-2feb506e90d0"
      },
      "execution_count": 3,
      "outputs": [
        {
          "output_type": "stream",
          "name": "stdout",
          "text": [
            "University 5\n",
            "British 1\n",
            "Columbia 1\n",
            "Texas 1\n",
            "Instruments 1\n",
            "California 1\n",
            "McMaster 1\n",
            "Massachusetts 1\n",
            "Institute 1\n",
            "Technology 1\n",
            "MIT 1\n",
            "Stanford 1\n",
            "Virginia 1\n",
            "Commonwealth 1\n"
          ]
        }
      ]
    },
    {
      "cell_type": "code",
      "source": [
        "'''\n",
        "Experiment 2:\n",
        "The below code is the basic code where we are extarcting the top 20 words from the Wikipedia page and comparing\n",
        "the results with the experiment 1.\n",
        "As seen in the output, we got pyshics is one of the words common in both the experiments.\n",
        "'''\n",
        "\n",
        "import requests\n",
        "from bs4 import BeautifulSoup\n",
        "from collections import Counter\n",
        "import re\n",
        "\n",
        "# Send a GET request to the Wikipedia page\n",
        "url = 'https://en.wikipedia.org/wiki/List_of_Nobel_laureates_by_country'\n",
        "response = requests.get(url)\n",
        "\n",
        "# Parse the HTML content of the page using BeautifulSoup\n",
        "soup = BeautifulSoup(response.content, 'html.parser')\n",
        "\n",
        "text = soup.get_text()   # Extract the text from the page\n",
        "\n",
        "text = re.sub('[^a-zA-Z]+', ' ', text)   # Remove special characters and numbers\n",
        "\n",
        "text = text.lower()   # Convert the text to lowercase\n",
        "\n",
        "words = text.split() # Tokenize the text into individual words\n",
        "\n",
        "# Define the stop words to remove\n",
        "stop_words = ['the', 'of', 'or' ,'and', 'in', 'to', 'for', 'with',\n",
        "          'a', 'as', 'on', 'by', 'at', 'an', 'was', 'is', 'from', 'that', 'were', 'which']\n",
        "\n",
        "filtered_words = [word for word in words if word not in stop_words]   # Remove stop words\n",
        "\n",
        "# Calculate word frequencies and print the top 20 most common words\n",
        "word_freqs = Counter(filtered_words)\n",
        "for word, freq in word_freqs.most_common(20):\n",
        "    print(word, freq)\n"
      ],
      "metadata": {
        "colab": {
          "base_uri": "https://localhost:8080/"
        },
        "id": "FGOKtaHHwQpA",
        "outputId": "1487666f-0862-4702-9dc8-a0c6cfe04666"
      },
      "execution_count": 4,
      "outputs": [
        {
          "output_type": "stream",
          "name": "stdout",
          "text": [
            "medicine 294\n",
            "physics 290\n",
            "physiology 289\n",
            "born 272\n",
            "chemistry 263\n",
            "peace 146\n",
            "literature 144\n",
            "economics 119\n",
            "edit 92\n",
            "nobel 68\n",
            "now 68\n",
            "laureates 47\n",
            "john 43\n",
            "list 40\n",
            "germany 38\n",
            "c 37\n",
            "j 37\n",
            "hungary 34\n",
            "austria 33\n",
            "empire 33\n"
          ]
        }
      ]
    },
    {
      "cell_type": "code",
      "source": [
        "'''\n",
        "Experiment 3:\n",
        "The below code give the count of compares the male and female Noble Laurates from the year 1901 to 2022.\n",
        "Then a bar graph is plotted to cleary show the comparision\n",
        "'''\n",
        "# read the data from the website\n",
        "url = \"https://stats.areppim.com/listes/list_nobelxprize.htm\"\n",
        "noble_prize_data = pd.read_html(url, header=0)\n",
        "\n",
        "# extract the data for the Chemistry category\n",
        "chemistry_field = noble_prize_data[4][[\"Gender\", \"Name\"]]\n",
        "\n",
        "# count the number of male and female laureates\n",
        "chemistry_field_count = chemistry_field.groupby(\"Gender\").size()\n",
        "male_count = chemistry_field_count[\"Male\"]\n",
        "female_count = chemistry_field_count[\"Female\"]\n",
        "\n",
        "# plot a bar graph\n",
        "fig, b = plt.subplots()\n",
        "b.bar([\"Male\", \"Female\"], [male_count, female_count])\n",
        "b.set_xlabel(\"Gender\")\n",
        "b.set_ylabel(\"Noble Prize Count\")\n",
        "b.set_title(\"Chemistry Nobel Laureates From 1901-2022\")\n",
        "plt.show()\n",
        "\n"
      ],
      "metadata": {
        "colab": {
          "base_uri": "https://localhost:8080/",
          "height": 295
        },
        "id": "GsAhy4SUwTa1",
        "outputId": "6895eeb5-e605-493e-9c84-a783a34fa454"
      },
      "execution_count": 5,
      "outputs": [
        {
          "output_type": "display_data",
          "data": {
            "text/plain": [
              "<Figure size 432x288 with 1 Axes>"
            ],
            "image/png": "[encoded data removed]"
          },
          "metadata": {
            "needs_background": "light"
          }
        }
      ]
    }
  ]
}